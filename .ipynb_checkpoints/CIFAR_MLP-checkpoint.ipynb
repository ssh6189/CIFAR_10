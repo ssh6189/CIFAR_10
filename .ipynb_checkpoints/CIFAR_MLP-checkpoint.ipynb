{
 "cells": [
  {
   "cell_type": "code",
   "execution_count": 1,
   "metadata": {},
   "outputs": [
    {
     "name": "stderr",
     "output_type": "stream",
     "text": [
      "Using TensorFlow backend.\n"
     ]
    }
   ],
   "source": [
    "import matplotlib.pyplot as plt\n",
    "import keras\n",
    "from keras.datasets import cifar10\n",
    "from keras.models import Sequential\n",
    "from keras.layers import Dense,Dropout"
   ]
  },
  {
   "cell_type": "code",
   "execution_count": 2,
   "metadata": {},
   "outputs": [],
   "source": [
    "num_classes = 10\n",
    "im_rows= 32\n",
    "im_cols= 32\n",
    "im_size = im_rows * im_cols*3"
   ]
  },
  {
   "cell_type": "code",
   "execution_count": 3,
   "metadata": {},
   "outputs": [],
   "source": [
    "#데이터 읽어 들이기\n",
    "(X_train, y_train), (X_test, y_test) = cifar10.load_data()"
   ]
  },
  {
   "cell_type": "code",
   "execution_count": 4,
   "metadata": {},
   "outputs": [],
   "source": [
    "#데이터를 1차원 배열로 변환하기\n",
    "X_train = X_train.reshape(-1, im_size).astype('float32') / 255\n",
    "X_test = X_test.reshape(-1, im_size).astype('float32') / 255\n",
    "\n",
    "#레이블 데이터를 One-hot 형식으로 변환하기\n",
    "y_train = keras.utils.to_categorical(y_train, num_classes)\n",
    "y_test = keras.utils.to_categorical(y_test, num_classes)"
   ]
  },
  {
   "cell_type": "code",
   "execution_count": 5,
   "metadata": {},
   "outputs": [
    {
     "name": "stdout",
     "output_type": "stream",
     "text": [
      "WARNING:tensorflow:From C:\\Users\\user\\anaconda\\envs\\test\\lib\\site-packages\\tensorflow_core\\python\\ops\\resource_variable_ops.py:1630: calling BaseResourceVariable.__init__ (from tensorflow.python.ops.resource_variable_ops) with constraint is deprecated and will be removed in a future version.\n",
      "Instructions for updating:\n",
      "If using Keras pass *_constraint arguments to layers.\n"
     ]
    }
   ],
   "source": [
    "#모델 정의하기\n",
    "model = Sequential()\n",
    "model.add(Dense(512, activation = 'relu', input_shape = (im_size,)))\n",
    "model.add(Dense(num_classes, activation = 'softmax'))"
   ]
  },
  {
   "cell_type": "code",
   "execution_count": 6,
   "metadata": {},
   "outputs": [],
   "source": [
    "#모델 컴파일하기\n",
    "model.compile(\n",
    "loss = 'categorical_crossentropy',\n",
    "optimizer = 'adam',\n",
    "metrics = ['accuracy'])"
   ]
  },
  {
   "cell_type": "code",
   "execution_count": 7,
   "metadata": {},
   "outputs": [
    {
     "name": "stdout",
     "output_type": "stream",
     "text": [
      "WARNING:tensorflow:From C:\\Users\\user\\anaconda\\envs\\test\\lib\\site-packages\\keras\\backend\\tensorflow_backend.py:422: The name tf.global_variables is deprecated. Please use tf.compat.v1.global_variables instead.\n",
      "\n",
      "Train on 50000 samples, validate on 10000 samples\n",
      "Epoch 1/50\n",
      "50000/50000 [==============================] - 56s 1ms/step - loss: 1.8780 - accuracy: 0.3270 - val_loss: 1.7299 - val_accuracy: 0.3782\n",
      "Epoch 2/50\n",
      "50000/50000 [==============================] - 56s 1ms/step - loss: 1.6941 - accuracy: 0.3955 - val_loss: 1.6559 - val_accuracy: 0.4172\n",
      "Epoch 3/50\n",
      "50000/50000 [==============================] - 56s 1ms/step - loss: 1.6202 - accuracy: 0.4237 - val_loss: 1.5752 - val_accuracy: 0.4433\n",
      "Epoch 4/50\n",
      "50000/50000 [==============================] - 57s 1ms/step - loss: 1.5794 - accuracy: 0.4400 - val_loss: 1.5376 - val_accuracy: 0.4580\n",
      "Epoch 5/50\n",
      "50000/50000 [==============================] - 57s 1ms/step - loss: 1.5472 - accuracy: 0.4512 - val_loss: 1.5274 - val_accuracy: 0.4615\n",
      "Epoch 6/50\n",
      "50000/50000 [==============================] - 57s 1ms/step - loss: 1.5238 - accuracy: 0.4588 - val_loss: 1.5327 - val_accuracy: 0.4533\n",
      "Epoch 7/50\n",
      "50000/50000 [==============================] - 57s 1ms/step - loss: 1.5035 - accuracy: 0.4658 - val_loss: 1.5185 - val_accuracy: 0.4641\n",
      "Epoch 8/50\n",
      "50000/50000 [==============================] - 57s 1ms/step - loss: 1.4867 - accuracy: 0.4739 - val_loss: 1.5352 - val_accuracy: 0.4505\n",
      "Epoch 9/50\n",
      "50000/50000 [==============================] - 58s 1ms/step - loss: 1.4712 - accuracy: 0.4795 - val_loss: 1.4741 - val_accuracy: 0.4778\n",
      "Epoch 10/50\n",
      "50000/50000 [==============================] - 57s 1ms/step - loss: 1.4564 - accuracy: 0.4841 - val_loss: 1.5016 - val_accuracy: 0.4661\n",
      "Epoch 11/50\n",
      "50000/50000 [==============================] - 57s 1ms/step - loss: 1.4448 - accuracy: 0.4858 - val_loss: 1.4875 - val_accuracy: 0.4732\n",
      "Epoch 12/50\n",
      "50000/50000 [==============================] - 63s 1ms/step - loss: 1.4393 - accuracy: 0.4907 - val_loss: 1.5018 - val_accuracy: 0.4664\n",
      "Epoch 13/50\n",
      "50000/50000 [==============================] - 56s 1ms/step - loss: 1.4261 - accuracy: 0.4951 - val_loss: 1.5053 - val_accuracy: 0.4694\n",
      "Epoch 14/50\n",
      "50000/50000 [==============================] - 56s 1ms/step - loss: 1.4147 - accuracy: 0.4986 - val_loss: 1.5118 - val_accuracy: 0.4613\n",
      "Epoch 15/50\n",
      "50000/50000 [==============================] - 57s 1ms/step - loss: 1.4104 - accuracy: 0.4993 - val_loss: 1.4844 - val_accuracy: 0.4724\n",
      "Epoch 16/50\n",
      "50000/50000 [==============================] - 56s 1ms/step - loss: 1.4021 - accuracy: 0.5033 - val_loss: 1.4783 - val_accuracy: 0.4825\n",
      "Epoch 17/50\n",
      "50000/50000 [==============================] - 56s 1ms/step - loss: 1.3984 - accuracy: 0.5022 - val_loss: 1.4911 - val_accuracy: 0.4753\n",
      "Epoch 18/50\n",
      "50000/50000 [==============================] - 56s 1ms/step - loss: 1.3851 - accuracy: 0.5113 - val_loss: 1.4745 - val_accuracy: 0.4823\n",
      "Epoch 19/50\n",
      "50000/50000 [==============================] - 53s 1ms/step - loss: 1.3814 - accuracy: 0.5082 - val_loss: 1.4677 - val_accuracy: 0.4829\n",
      "Epoch 20/50\n",
      "50000/50000 [==============================] - 56s 1ms/step - loss: 1.3712 - accuracy: 0.5147 - val_loss: 1.4917 - val_accuracy: 0.4698\n",
      "Epoch 21/50\n",
      "50000/50000 [==============================] - 55s 1ms/step - loss: 1.3689 - accuracy: 0.5146 - val_loss: 1.4469 - val_accuracy: 0.4924\n",
      "Epoch 22/50\n",
      "50000/50000 [==============================] - 55s 1ms/step - loss: 1.3656 - accuracy: 0.5164 - val_loss: 1.4593 - val_accuracy: 0.4770\n",
      "Epoch 23/50\n",
      "50000/50000 [==============================] - 55s 1ms/step - loss: 1.3557 - accuracy: 0.5195 - val_loss: 1.4555 - val_accuracy: 0.4877\n",
      "Epoch 24/50\n",
      "50000/50000 [==============================] - 56s 1ms/step - loss: 1.3538 - accuracy: 0.5192 - val_loss: 1.4722 - val_accuracy: 0.4805\n",
      "Epoch 25/50\n",
      "50000/50000 [==============================] - 55s 1ms/step - loss: 1.3513 - accuracy: 0.5182 - val_loss: 1.5085 - val_accuracy: 0.4709\n",
      "Epoch 26/50\n",
      "50000/50000 [==============================] - 54s 1ms/step - loss: 1.3451 - accuracy: 0.5231 - val_loss: 1.4825 - val_accuracy: 0.4735\n",
      "Epoch 27/50\n",
      "50000/50000 [==============================] - 55s 1ms/step - loss: 1.3417 - accuracy: 0.5221 - val_loss: 1.4597 - val_accuracy: 0.4833\n",
      "Epoch 28/50\n",
      "50000/50000 [==============================] - 54s 1ms/step - loss: 1.3308 - accuracy: 0.5298 - val_loss: 1.5238 - val_accuracy: 0.4607\n",
      "Epoch 29/50\n",
      "50000/50000 [==============================] - 54s 1ms/step - loss: 1.3300 - accuracy: 0.5277 - val_loss: 1.5079 - val_accuracy: 0.4799\n",
      "Epoch 30/50\n",
      "50000/50000 [==============================] - 54s 1ms/step - loss: 1.3234 - accuracy: 0.5295 - val_loss: 1.4683 - val_accuracy: 0.4828\n",
      "Epoch 31/50\n",
      "50000/50000 [==============================] - 54s 1ms/step - loss: 1.3176 - accuracy: 0.5312 - val_loss: 1.4677 - val_accuracy: 0.4819\n",
      "Epoch 32/50\n",
      "50000/50000 [==============================] - 54s 1ms/step - loss: 1.3170 - accuracy: 0.5323 - val_loss: 1.4672 - val_accuracy: 0.4835\n",
      "Epoch 33/50\n",
      "50000/50000 [==============================] - 54s 1ms/step - loss: 1.3128 - accuracy: 0.5336 - val_loss: 1.4586 - val_accuracy: 0.4889\n",
      "Epoch 34/50\n",
      "50000/50000 [==============================] - 56s 1ms/step - loss: 1.3095 - accuracy: 0.5380 - val_loss: 1.4857 - val_accuracy: 0.4834\n",
      "Epoch 35/50\n",
      "50000/50000 [==============================] - 62s 1ms/step - loss: 1.3067 - accuracy: 0.5356 - val_loss: 1.4415 - val_accuracy: 0.4978\n",
      "Epoch 36/50\n",
      "50000/50000 [==============================] - 62s 1ms/step - loss: 1.3017 - accuracy: 0.5393 - val_loss: 1.4800 - val_accuracy: 0.4774\n",
      "Epoch 37/50\n",
      "50000/50000 [==============================] - 58s 1ms/step - loss: 1.3014 - accuracy: 0.5349 - val_loss: 1.4587 - val_accuracy: 0.4971\n",
      "Epoch 38/50\n",
      "50000/50000 [==============================] - 57s 1ms/step - loss: 1.2957 - accuracy: 0.5385 - val_loss: 1.4611 - val_accuracy: 0.4897\n",
      "Epoch 39/50\n",
      "50000/50000 [==============================] - 60s 1ms/step - loss: 1.2916 - accuracy: 0.5394 - val_loss: 1.4881 - val_accuracy: 0.4803\n",
      "Epoch 40/50\n",
      "50000/50000 [==============================] - 60s 1ms/step - loss: 1.2908 - accuracy: 0.5410 - val_loss: 1.4829 - val_accuracy: 0.4840\n",
      "Epoch 41/50\n",
      "50000/50000 [==============================] - 55s 1ms/step - loss: 1.2836 - accuracy: 0.5426 - val_loss: 1.4667 - val_accuracy: 0.4882\n",
      "Epoch 42/50\n",
      "50000/50000 [==============================] - 55s 1ms/step - loss: 1.2841 - accuracy: 0.5437 - val_loss: 1.4765 - val_accuracy: 0.4859\n",
      "Epoch 43/50\n",
      "50000/50000 [==============================] - 56s 1ms/step - loss: 1.2807 - accuracy: 0.5451 - val_loss: 1.4951 - val_accuracy: 0.4838\n",
      "Epoch 44/50\n",
      "50000/50000 [==============================] - 55s 1ms/step - loss: 1.2787 - accuracy: 0.5467 - val_loss: 1.5022 - val_accuracy: 0.4860\n",
      "Epoch 45/50\n",
      "50000/50000 [==============================] - 54s 1ms/step - loss: 1.2774 - accuracy: 0.5444 - val_loss: 1.4849 - val_accuracy: 0.4788\n",
      "Epoch 46/50\n",
      "50000/50000 [==============================] - 55s 1ms/step - loss: 1.2729 - accuracy: 0.5470 - val_loss: 1.4799 - val_accuracy: 0.4888\n",
      "Epoch 47/50\n",
      "50000/50000 [==============================] - 54s 1ms/step - loss: 1.2739 - accuracy: 0.5480 - val_loss: 1.4874 - val_accuracy: 0.4811\n",
      "Epoch 48/50\n",
      "50000/50000 [==============================] - 54s 1ms/step - loss: 1.2697 - accuracy: 0.5481 - val_loss: 1.4922 - val_accuracy: 0.4771\n",
      "Epoch 49/50\n",
      "50000/50000 [==============================] - 54s 1ms/step - loss: 1.2631 - accuracy: 0.5519 - val_loss: 1.4735 - val_accuracy: 0.4813\n",
      "Epoch 50/50\n",
      "50000/50000 [==============================] - 57s 1ms/step - loss: 1.2625 - accuracy: 0.5482 - val_loss: 1.4886 - val_accuracy: 0.4850\n"
     ]
    }
   ],
   "source": [
    "#학습하기\n",
    "hist = model.fit(X_train, y_train,\n",
    "                batch_size = 32, epochs = 50,\n",
    "                verbose = 1,\n",
    "                validation_data = (X_test, y_test))"
   ]
  },
  {
   "cell_type": "code",
   "execution_count": 8,
   "metadata": {},
   "outputs": [
    {
     "name": "stdout",
     "output_type": "stream",
     "text": [
      "10000/10000 [==============================] - 2s 181us/step\n",
      "정답률 =  0.48500001430511475 loss =  1.4886482385635376\n"
     ]
    }
   ],
   "source": [
    "#모델 평가하기\n",
    "score = model.evaluate(X_test, y_test, verbose = 1)\n",
    "print('정답률 = ', score[1], 'loss = ', score[0])"
   ]
  },
  {
   "cell_type": "code",
   "execution_count": 9,
   "metadata": {},
   "outputs": [
    {
     "data": {
      "image/png": "[encoded data removed]",
      "text/plain": [
       "<Figure size 432x288 with 1 Axes>"
      ]
     },
     "metadata": {
      "needs_background": "light"
     },
     "output_type": "display_data"
    },
    {
     "data": {
      "image/png": "[encoded data removed]",
      "text/plain": [
       "<Figure size 432x288 with 1 Axes>"
      ]
     },
     "metadata": {
      "needs_background": "light"
     },
     "output_type": "display_data"
    }
   ],
   "source": [
    "#학습 상태를 그래프로 그리기\n",
    "plt.plot(hist.history['accuracy'])\n",
    "plt.plot(hist.history['val_accuracy'])\n",
    "plt.title('Accuracy')\n",
    "plt.legend(['train', 'test'], loc = 'upper left')\n",
    "plt.show()\n",
    "plt.plot(hist.history['loss'])\n",
    "plt.plot(hist.history['val_loss'])\n",
    "plt.title('Loss')\n",
    "plt.legend(['train', 'test'], loc = 'upper left')\n",
    "plt.show()"
   ]
  },
  {
   "cell_type": "code",
   "execution_count": null,
   "metadata": {},
   "outputs": [],
   "source": [
    "#학습결과 저장하기\n",
    "model.save_weights('cifar10_MLP-weight.h5')"
   ]
  },
  {
   "cell_type": "code",
   "execution_count": null,
   "metadata": {},
   "outputs": [],
   "source": [
    "#학습결과 불러오기\n",
    "model.load_weights('cifar10_MLP-weight.h5')"
   ]
  }
 ],
 "metadata": {
  "kernelspec": {
   "display_name": "Python 3",
   "language": "python",
   "name": "python3"
  },
  "language_info": {
   "codemirror_mode": {
    "name": "ipython",
    "version": 3
   },
   "file_extension": ".py",
   "mimetype": "text/x-python",
   "name": "python",
   "nbconvert_exporter": "python",
   "pygments_lexer": "ipython3",
   "version": "3.7.7"
  }
 },
 "nbformat": 4,
 "nbformat_minor": 4
}
