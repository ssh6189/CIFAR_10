{
 "cells": [
  {
   "cell_type": "code",
   "execution_count": 1,
   "metadata": {},
   "outputs": [
    {
     "name": "stderr",
     "output_type": "stream",
     "text": [
      "Using TensorFlow backend.\n"
     ]
    }
   ],
   "source": [
    "import matplotlib.pyplot as plt\n",
    "import keras\n",
    "from keras.datasets import cifar10\n",
    "from keras.models import Sequential\n",
    "from keras.layers import Dense, Dropout,Activation, Flatten\n",
    "from keras.layers import Conv2D, MaxPooling2D"
   ]
  },
  {
   "cell_type": "code",
   "execution_count": 2,
   "metadata": {},
   "outputs": [],
   "source": [
    "num_classes = 10\n",
    "im_rows= 32\n",
    "im_cols= 32\n",
    "in_shape = (im_rows, im_cols, 3)"
   ]
  },
  {
   "cell_type": "code",
   "execution_count": 3,
   "metadata": {},
   "outputs": [],
   "source": [
    "#데이터 읽어 들이기\n",
    "(X_train, y_train), (X_test, y_test) = cifar10.load_data()"
   ]
  },
  {
   "cell_type": "code",
   "execution_count": 4,
   "metadata": {},
   "outputs": [],
   "source": [
    "#데이터를 1차원 배열로 변환하기\n",
    "X_train = X_train.astype('float32') / 255\n",
    "X_test = X_test.astype('float32') / 255\n",
    "\n",
    "#레이블 데이터를 One-hot 형식으로 변환하기\n",
    "y_train = keras.utils.to_categorical(y_train, num_classes)\n",
    "y_test = keras.utils.to_categorical(y_test, num_classes)"
   ]
  },
  {
   "cell_type": "code",
   "execution_count": 5,
   "metadata": {},
   "outputs": [
    {
     "name": "stdout",
     "output_type": "stream",
     "text": [
      "WARNING:tensorflow:From C:\\Users\\user\\anaconda\\envs\\test\\lib\\site-packages\\tensorflow_core\\python\\ops\\resource_variable_ops.py:1630: calling BaseResourceVariable.__init__ (from tensorflow.python.ops.resource_variable_ops) with constraint is deprecated and will be removed in a future version.\n",
      "Instructions for updating:\n",
      "If using Keras pass *_constraint arguments to layers.\n",
      "WARNING:tensorflow:From C:\\Users\\user\\anaconda\\envs\\test\\lib\\site-packages\\keras\\backend\\tensorflow_backend.py:4070: The name tf.nn.max_pool is deprecated. Please use tf.nn.max_pool2d instead.\n",
      "\n"
     ]
    }
   ],
   "source": [
    "#모델 정의하기\n",
    "model = Sequential()\n",
    "model.add(Conv2D(32, (3, 3), padding = 'same', input_shape = in_shape))\n",
    "model.add(Activation('relu'))\n",
    "model.add(Conv2D(32, (3, 3)))\n",
    "model.add(Activation('relu'))\n",
    "model.add(MaxPooling2D(pool_size = (2, 2)))\n",
    "model.add(Dropout(0.25))\n",
    "\n",
    "model.add(Flatten())\n",
    "model.add(Dense(512))\n",
    "model.add(Activation('relu'))\n",
    "model.add(Dropout(0.5))\n",
    "model.add(Dense(num_classes))\n",
    "model.add(Activation('softmax'))"
   ]
  },
  {
   "cell_type": "code",
   "execution_count": 6,
   "metadata": {},
   "outputs": [],
   "source": [
    "#모델 컴파일하기\n",
    "model.compile(\n",
    "loss = 'categorical_crossentropy',\n",
    "optimizer = 'adam',\n",
    "metrics = ['accuracy'])"
   ]
  },
  {
   "cell_type": "code",
   "execution_count": 7,
   "metadata": {},
   "outputs": [
    {
     "name": "stdout",
     "output_type": "stream",
     "text": [
      "WARNING:tensorflow:From C:\\Users\\user\\anaconda\\envs\\test\\lib\\site-packages\\keras\\backend\\tensorflow_backend.py:422: The name tf.global_variables is deprecated. Please use tf.compat.v1.global_variables instead.\n",
      "\n",
      "Train on 50000 samples, validate on 10000 samples\n",
      "Epoch 1/50\n",
      "50000/50000 [==============================] - 290s 6ms/step - loss: 1.4148 - accuracy: 0.4887 - val_loss: 1.0931 - val_accuracy: 0.6147\n",
      "Epoch 2/50\n",
      "50000/50000 [==============================] - 293s 6ms/step - loss: 1.0789 - accuracy: 0.6182 - val_loss: 0.9923 - val_accuracy: 0.6562\n",
      "Epoch 3/50\n",
      "50000/50000 [==============================] - 322s 6ms/step - loss: 0.9369 - accuracy: 0.6697 - val_loss: 0.8991 - val_accuracy: 0.6874\n",
      "Epoch 4/50\n",
      "50000/50000 [==============================] - 320s 6ms/step - loss: 0.8325 - accuracy: 0.7087 - val_loss: 0.9279 - val_accuracy: 0.6760\n",
      "Epoch 5/50\n",
      "50000/50000 [==============================] - 322s 6ms/step - loss: 0.7492 - accuracy: 0.7363 - val_loss: 0.8763 - val_accuracy: 0.6987\n",
      "Epoch 6/50\n",
      "50000/50000 [==============================] - 321s 6ms/step - loss: 0.6777 - accuracy: 0.7635 - val_loss: 0.8504 - val_accuracy: 0.7118\n",
      "Epoch 7/50\n",
      "50000/50000 [==============================] - 323s 6ms/step - loss: 0.6057 - accuracy: 0.7866 - val_loss: 0.8946 - val_accuracy: 0.7035\n",
      "Epoch 8/50\n",
      "50000/50000 [==============================] - 323s 6ms/step - loss: 0.5511 - accuracy: 0.8047 - val_loss: 0.9044 - val_accuracy: 0.7074\n",
      "Epoch 9/50\n",
      "50000/50000 [==============================] - 322s 6ms/step - loss: 0.5029 - accuracy: 0.8217 - val_loss: 0.8808 - val_accuracy: 0.7080\n",
      "Epoch 10/50\n",
      "50000/50000 [==============================] - 322s 6ms/step - loss: 0.4626 - accuracy: 0.8376 - val_loss: 0.9053 - val_accuracy: 0.7175\n",
      "Epoch 11/50\n",
      "50000/50000 [==============================] - 321s 6ms/step - loss: 0.4280 - accuracy: 0.8486 - val_loss: 0.9217 - val_accuracy: 0.7164\n",
      "Epoch 12/50\n",
      "50000/50000 [==============================] - 323s 6ms/step - loss: 0.4031 - accuracy: 0.8575 - val_loss: 0.9536 - val_accuracy: 0.7179\n",
      "Epoch 13/50\n",
      "50000/50000 [==============================] - 330s 7ms/step - loss: 0.3728 - accuracy: 0.8683 - val_loss: 0.9554 - val_accuracy: 0.7145\n",
      "Epoch 14/50\n",
      "50000/50000 [==============================] - 338s 7ms/step - loss: 0.3546 - accuracy: 0.8779 - val_loss: 0.9538 - val_accuracy: 0.7190\n",
      "Epoch 15/50\n",
      "50000/50000 [==============================] - 335s 7ms/step - loss: 0.3376 - accuracy: 0.8817 - val_loss: 0.9982 - val_accuracy: 0.7163\n",
      "Epoch 16/50\n",
      "50000/50000 [==============================] - 330s 7ms/step - loss: 0.3197 - accuracy: 0.8883 - val_loss: 0.9863 - val_accuracy: 0.7113\n",
      "Epoch 17/50\n",
      "50000/50000 [==============================] - 329s 7ms/step - loss: 0.3093 - accuracy: 0.8932 - val_loss: 1.0281 - val_accuracy: 0.7163\n",
      "Epoch 18/50\n",
      "50000/50000 [==============================] - 303s 6ms/step - loss: 0.2905 - accuracy: 0.9006 - val_loss: 0.9980 - val_accuracy: 0.7207\n",
      "Epoch 19/50\n",
      "50000/50000 [==============================] - 297s 6ms/step - loss: 0.2829 - accuracy: 0.9024 - val_loss: 1.0549 - val_accuracy: 0.7206\n",
      "Epoch 20/50\n",
      "50000/50000 [==============================] - 334s 7ms/step - loss: 0.2775 - accuracy: 0.9059 - val_loss: 1.0498 - val_accuracy: 0.7182\n",
      "Epoch 21/50\n",
      "50000/50000 [==============================] - 335s 7ms/step - loss: 0.2699 - accuracy: 0.9102 - val_loss: 1.0726 - val_accuracy: 0.7181\n",
      "Epoch 22/50\n",
      "50000/50000 [==============================] - 333s 7ms/step - loss: 0.2591 - accuracy: 0.9101 - val_loss: 1.0825 - val_accuracy: 0.7220\n",
      "Epoch 23/50\n",
      "50000/50000 [==============================] - 334s 7ms/step - loss: 0.2513 - accuracy: 0.9141 - val_loss: 1.0677 - val_accuracy: 0.7168\n",
      "Epoch 24/50\n",
      "50000/50000 [==============================] - 335s 7ms/step - loss: 0.2437 - accuracy: 0.9152 - val_loss: 1.1363 - val_accuracy: 0.7161\n",
      "Epoch 25/50\n",
      "50000/50000 [==============================] - 336s 7ms/step - loss: 0.2402 - accuracy: 0.9187 - val_loss: 1.1583 - val_accuracy: 0.7152\n",
      "Epoch 26/50\n",
      "50000/50000 [==============================] - 333s 7ms/step - loss: 0.2420 - accuracy: 0.9175 - val_loss: 1.0739 - val_accuracy: 0.7068\n",
      "Epoch 27/50\n",
      "50000/50000 [==============================] - 334s 7ms/step - loss: 0.2310 - accuracy: 0.9211 - val_loss: 1.1063 - val_accuracy: 0.7182\n",
      "Epoch 28/50\n",
      "50000/50000 [==============================] - 333s 7ms/step - loss: 0.2279 - accuracy: 0.9226 - val_loss: 1.1644 - val_accuracy: 0.7187\n",
      "Epoch 29/50\n",
      "50000/50000 [==============================] - 343s 7ms/step - loss: 0.2277 - accuracy: 0.9239 - val_loss: 1.1006 - val_accuracy: 0.7173\n",
      "Epoch 30/50\n",
      "50000/50000 [==============================] - 335s 7ms/step - loss: 0.2152 - accuracy: 0.9274 - val_loss: 1.2153 - val_accuracy: 0.7192\n",
      "Epoch 31/50\n",
      "50000/50000 [==============================] - 333s 7ms/step - loss: 0.2095 - accuracy: 0.9293 - val_loss: 1.1756 - val_accuracy: 0.7197\n",
      "Epoch 32/50\n",
      "50000/50000 [==============================] - 336s 7ms/step - loss: 0.2199 - accuracy: 0.9275 - val_loss: 1.1886 - val_accuracy: 0.7203\n",
      "Epoch 33/50\n",
      "50000/50000 [==============================] - 344s 7ms/step - loss: 0.2055 - accuracy: 0.9318 - val_loss: 1.2040 - val_accuracy: 0.7139\n",
      "Epoch 34/50\n",
      "50000/50000 [==============================] - 334s 7ms/step - loss: 0.2059 - accuracy: 0.9311 - val_loss: 1.2467 - val_accuracy: 0.7138\n",
      "Epoch 35/50\n",
      "50000/50000 [==============================] - 334s 7ms/step - loss: 0.2070 - accuracy: 0.9309 - val_loss: 1.2711 - val_accuracy: 0.7176\n",
      "Epoch 36/50\n",
      "50000/50000 [==============================] - 329s 7ms/step - loss: 0.1971 - accuracy: 0.9347 - val_loss: 1.1673 - val_accuracy: 0.7191\n",
      "Epoch 37/50\n",
      "50000/50000 [==============================] - 330s 7ms/step - loss: 0.2034 - accuracy: 0.9328 - val_loss: 1.2329 - val_accuracy: 0.7215\n",
      "Epoch 38/50\n",
      "50000/50000 [==============================] - 330s 7ms/step - loss: 0.1939 - accuracy: 0.9361 - val_loss: 1.2886 - val_accuracy: 0.7126\n",
      "Epoch 39/50\n",
      "50000/50000 [==============================] - 329s 7ms/step - loss: 0.1928 - accuracy: 0.9362 - val_loss: 1.1925 - val_accuracy: 0.7169\n",
      "Epoch 40/50\n",
      "50000/50000 [==============================] - 331s 7ms/step - loss: 0.1891 - accuracy: 0.9365 - val_loss: 1.2409 - val_accuracy: 0.7184\n",
      "Epoch 41/50\n",
      "50000/50000 [==============================] - 330s 7ms/step - loss: 0.1826 - accuracy: 0.9402 - val_loss: 1.2496 - val_accuracy: 0.7186\n",
      "Epoch 42/50\n",
      "50000/50000 [==============================] - 330s 7ms/step - loss: 0.1804 - accuracy: 0.9395 - val_loss: 1.3485 - val_accuracy: 0.7145\n",
      "Epoch 43/50\n",
      "50000/50000 [==============================] - 330s 7ms/step - loss: 0.1818 - accuracy: 0.9406 - val_loss: 1.2392 - val_accuracy: 0.7130\n",
      "Epoch 44/50\n",
      "50000/50000 [==============================] - 331s 7ms/step - loss: 0.1782 - accuracy: 0.9407 - val_loss: 1.3105 - val_accuracy: 0.7100\n",
      "Epoch 45/50\n",
      "50000/50000 [==============================] - 341s 7ms/step - loss: 0.1720 - accuracy: 0.9434 - val_loss: 1.3233 - val_accuracy: 0.7181\n",
      "Epoch 46/50\n",
      "50000/50000 [==============================] - 338s 7ms/step - loss: 0.1824 - accuracy: 0.9406 - val_loss: 1.3506 - val_accuracy: 0.7141\n",
      "Epoch 47/50\n",
      "50000/50000 [==============================] - 336s 7ms/step - loss: 0.1744 - accuracy: 0.9432 - val_loss: 1.2728 - val_accuracy: 0.7208\n",
      "Epoch 48/50\n",
      "50000/50000 [==============================] - 342s 7ms/step - loss: 0.1734 - accuracy: 0.9433 - val_loss: 1.2994 - val_accuracy: 0.7222\n",
      "Epoch 49/50\n",
      "50000/50000 [==============================] - 336s 7ms/step - loss: 0.1731 - accuracy: 0.9426 - val_loss: 1.3480 - val_accuracy: 0.7228\n",
      "Epoch 50/50\n",
      "50000/50000 [==============================] - 339s 7ms/step - loss: 0.1687 - accuracy: 0.9459 - val_loss: 1.3503 - val_accuracy: 0.7108\n"
     ]
    }
   ],
   "source": [
    "#학습하기\n",
    "hist = model.fit(X_train, y_train,\n",
    "                batch_size = 32, epochs = 50,\n",
    "                verbose = 1,\n",
    "                validation_data =(X_test, y_test))"
   ]
  },
  {
   "cell_type": "code",
   "execution_count": 8,
   "metadata": {},
   "outputs": [
    {
     "name": "stdout",
     "output_type": "stream",
     "text": [
      "10000/10000 [==============================] - 13s 1ms/step\n",
      "정답률 =  0.7107999920845032 loss =  1.3502690464019775\n"
     ]
    }
   ],
   "source": [
    "#모델 평가하기\n",
    "score = model.evaluate(X_test, y_test, verbose = 1)\n",
    "print('정답률 = ', score[1], 'loss = ', score[0])"
   ]
  },
  {
   "cell_type": "code",
   "execution_count": 9,
   "metadata": {},
   "outputs": [
    {
     "data": {
      "image/png": "[encoded data removed]",
      "text/plain": [
       "<Figure size 432x288 with 1 Axes>"
      ]
     },
     "metadata": {
      "needs_background": "light"
     },
     "output_type": "display_data"
    },
    {
     "data": {
      "image/png": "[encoded data removed]",
      "text/plain": [
       "<Figure size 432x288 with 1 Axes>"
      ]
     },
     "metadata": {
      "needs_background": "light"
     },
     "output_type": "display_data"
    }
   ],
   "source": [
    "#학습 상태를 그래프로 그리기\n",
    "plt.plot(hist.history['accuracy'])\n",
    "plt.plot(hist.history['val_accuracy'])\n",
    "plt.title('Accuracy')\n",
    "plt.legend(['train', 'test'], loc = 'upper left')\n",
    "plt.show()\n",
    "plt.plot(hist.history['loss'])\n",
    "plt.plot(hist.history['val_loss'])\n",
    "plt.title('Loss')\n",
    "plt.legend(['train', 'test'], loc = 'upper left')\n",
    "plt.show()"
   ]
  },
  {
   "cell_type": "code",
   "execution_count": 10,
   "metadata": {},
   "outputs": [],
   "source": [
    "#학습결과 저장하기\n",
    "model.save_weights('cifar10_CNN-weight.h5')"
   ]
  },
  {
   "cell_type": "code",
   "execution_count": 11,
   "metadata": {},
   "outputs": [],
   "source": [
    "#학습결과 불러오기\n",
    "model.load_weights('cifar10_CNN-weight.h5')"
   ]
  }
 ],
 "metadata": {
  "kernelspec": {
   "display_name": "Python 3",
   "language": "python",
   "name": "python3"
  },
  "language_info": {
   "codemirror_mode": {
    "name": "ipython",
    "version": 3
   },
   "file_extension": ".py",
   "mimetype": "text/x-python",
   "name": "python",
   "nbconvert_exporter": "python",
   "pygments_lexer": "ipython3",
   "version": "3.7.7"
  }
 },
 "nbformat": 4,
 "nbformat_minor": 4
}
