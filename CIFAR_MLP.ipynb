{
 "cells": [
  {
   "cell_type": "code",
   "execution_count": 1,
   "metadata": {},
   "outputs": [
    {
     "name": "stderr",
     "output_type": "stream",
     "text": [
      "Using TensorFlow backend.\n"
     ]
    }
   ],
   "source": [
    "import matplotlib.pyplot as plt\n",
    "import keras\n",
    "from keras.datasets import cifar10\n",
    "from keras.models import Sequential\n",
    "from keras.layers import Dense,Dropout"
   ]
  },
  {
   "cell_type": "code",
   "execution_count": 2,
   "metadata": {},
   "outputs": [],
   "source": [
    "num_classes = 10\n",
    "im_rows= 32\n",
    "im_cols= 32\n",
    "im_size = im_rows * im_cols*3"
   ]
  },
  {
   "cell_type": "code",
   "execution_count": 3,
   "metadata": {},
   "outputs": [],
   "source": [
    "#데이터 읽어 들이기\n",
    "(X_train, y_train), (X_test, y_test) = cifar10.load_data()"
   ]
  },
  {
   "cell_type": "code",
   "execution_count": 4,
   "metadata": {},
   "outputs": [],
   "source": [
    "#데이터를 1차원 배열로 변환하기\n",
    "X_train = X_train.reshape(-1, im_size).astype('float32') / 255\n",
    "X_test = X_test.reshape(-1, im_size).astype('float32') / 255\n",
    "\n",
    "#레이블 데이터를 One-hot 형식으로 변환하기\n",
    "y_train = keras.utils.to_categorical(y_train, num_classes)\n",
    "y_test = keras.utils.to_categorical(y_test, num_classes)"
   ]
  },
  {
   "cell_type": "code",
   "execution_count": 5,
   "metadata": {},
   "outputs": [
    {
     "name": "stdout",
     "output_type": "stream",
     "text": [
      "WARNING:tensorflow:From C:\\Users\\user\\anaconda\\envs\\test\\lib\\site-packages\\tensorflow_core\\python\\ops\\resource_variable_ops.py:1630: calling BaseResourceVariable.__init__ (from tensorflow.python.ops.resource_variable_ops) with constraint is deprecated and will be removed in a future version.\n",
      "Instructions for updating:\n",
      "If using Keras pass *_constraint arguments to layers.\n"
     ]
    }
   ],
   "source": [
    "#모델 정의하기\n",
    "model = Sequential()\n",
    "model.add(Dense(512, activation = 'relu', input_shape = (im_size,)))\n",
    "model.add(Dense(num_classes, activation = 'softmax'))"
   ]
  },
  {
   "cell_type": "code",
   "execution_count": 6,
   "metadata": {},
   "outputs": [],
   "source": [
    "#모델 컴파일하기\n",
    "model.compile(\n",
    "loss = 'categorical_crossentropy',\n",
    "optimizer = 'adam',\n",
    "metrics = ['accuracy'])"
   ]
  },
  {
   "cell_type": "code",
   "execution_count": 7,
   "metadata": {},
   "outputs": [
    {
     "name": "stdout",
     "output_type": "stream",
     "text": [
      "WARNING:tensorflow:From C:\\Users\\user\\anaconda\\envs\\test\\lib\\site-packages\\keras\\backend\\tensorflow_backend.py:422: The name tf.global_variables is deprecated. Please use tf.compat.v1.global_variables instead.\n",
      "\n",
      "Train on 50000 samples, validate on 10000 samples\n",
      "Epoch 1/50\n",
      "50000/50000 [==============================] - 66s 1ms/step - loss: 1.8820 - accuracy: 0.3316 - val_loss: 1.7162 - val_accuracy: 0.3804\n",
      "Epoch 2/50\n",
      "50000/50000 [==============================] - 64s 1ms/step - loss: 1.7067 - accuracy: 0.3913 - val_loss: 1.6348 - val_accuracy: 0.4237\n",
      "Epoch 3/50\n",
      "50000/50000 [==============================] - 66s 1ms/step - loss: 1.6460 - accuracy: 0.4124 - val_loss: 1.6179 - val_accuracy: 0.4222\n",
      "Epoch 4/50\n",
      "50000/50000 [==============================] - 75s 1ms/step - loss: 1.5984 - accuracy: 0.4301 - val_loss: 1.5801 - val_accuracy: 0.4333\n",
      "Epoch 5/50\n",
      "50000/50000 [==============================] - 74s 1ms/step - loss: 1.5675 - accuracy: 0.4428 - val_loss: 1.5625 - val_accuracy: 0.4441\n",
      "Epoch 6/50\n",
      "50000/50000 [==============================] - 74s 1ms/step - loss: 1.5440 - accuracy: 0.4527 - val_loss: 1.5778 - val_accuracy: 0.4307\n",
      "Epoch 7/50\n",
      "50000/50000 [==============================] - 75s 2ms/step - loss: 1.5227 - accuracy: 0.4590 - val_loss: 1.5509 - val_accuracy: 0.4459\n",
      "Epoch 8/50\n",
      "50000/50000 [==============================] - 65s 1ms/step - loss: 1.5059 - accuracy: 0.4660 - val_loss: 1.5615 - val_accuracy: 0.4393\n",
      "Epoch 9/50\n",
      "50000/50000 [==============================] - 60s 1ms/step - loss: 1.4928 - accuracy: 0.4722 - val_loss: 1.5885 - val_accuracy: 0.4367\n",
      "Epoch 10/50\n",
      "50000/50000 [==============================] - 61s 1ms/step - loss: 1.4826 - accuracy: 0.4735 - val_loss: 1.5849 - val_accuracy: 0.4379\n",
      "Epoch 11/50\n",
      "50000/50000 [==============================] - 57s 1ms/step - loss: 1.4715 - accuracy: 0.4768 - val_loss: 1.5333 - val_accuracy: 0.4588\n",
      "Epoch 12/50\n",
      "50000/50000 [==============================] - 55s 1ms/step - loss: 1.4587 - accuracy: 0.4813 - val_loss: 1.5371 - val_accuracy: 0.4558\n",
      "Epoch 13/50\n",
      "50000/50000 [==============================] - 54s 1ms/step - loss: 1.4470 - accuracy: 0.4856 - val_loss: 1.5779 - val_accuracy: 0.4446\n",
      "Epoch 14/50\n",
      "50000/50000 [==============================] - 55s 1ms/step - loss: 1.4391 - accuracy: 0.4876 - val_loss: 1.5227 - val_accuracy: 0.4631\n",
      "Epoch 15/50\n",
      "50000/50000 [==============================] - 55s 1ms/step - loss: 1.4301 - accuracy: 0.4917 - val_loss: 1.5471 - val_accuracy: 0.4472\n",
      "Epoch 16/50\n",
      "50000/50000 [==============================] - 58s 1ms/step - loss: 1.4254 - accuracy: 0.4942 - val_loss: 1.5579 - val_accuracy: 0.4526\n",
      "Epoch 17/50\n",
      "50000/50000 [==============================] - 63s 1ms/step - loss: 1.4185 - accuracy: 0.4944 - val_loss: 1.5432 - val_accuracy: 0.4591\n",
      "Epoch 18/50\n",
      "50000/50000 [==============================] - 56s 1ms/step - loss: 1.4091 - accuracy: 0.4978 - val_loss: 1.5461 - val_accuracy: 0.4500\n",
      "Epoch 19/50\n",
      "50000/50000 [==============================] - 54s 1ms/step - loss: 1.4014 - accuracy: 0.5015 - val_loss: 1.4884 - val_accuracy: 0.4754\n",
      "Epoch 20/50\n",
      "50000/50000 [==============================] - 54s 1ms/step - loss: 1.3973 - accuracy: 0.5029 - val_loss: 1.4851 - val_accuracy: 0.4743\n",
      "Epoch 21/50\n",
      "50000/50000 [==============================] - 54s 1ms/step - loss: 1.3895 - accuracy: 0.5044 - val_loss: 1.4732 - val_accuracy: 0.4761\n",
      "Epoch 22/50\n",
      "50000/50000 [==============================] - 54s 1ms/step - loss: 1.3811 - accuracy: 0.5085 - val_loss: 1.4864 - val_accuracy: 0.4784\n",
      "Epoch 23/50\n",
      "50000/50000 [==============================] - 54s 1ms/step - loss: 1.3775 - accuracy: 0.5079 - val_loss: 1.4962 - val_accuracy: 0.4782\n",
      "Epoch 24/50\n",
      "50000/50000 [==============================] - 54s 1ms/step - loss: 1.3678 - accuracy: 0.5140 - val_loss: 1.4903 - val_accuracy: 0.4693\n",
      "Epoch 25/50\n",
      "50000/50000 [==============================] - 54s 1ms/step - loss: 1.3669 - accuracy: 0.5149 - val_loss: 1.4848 - val_accuracy: 0.4769\n",
      "Epoch 26/50\n",
      "50000/50000 [==============================] - 54s 1ms/step - loss: 1.3583 - accuracy: 0.5157 - val_loss: 1.5645 - val_accuracy: 0.4568\n",
      "Epoch 27/50\n",
      "50000/50000 [==============================] - 54s 1ms/step - loss: 1.3548 - accuracy: 0.5181 - val_loss: 1.5084 - val_accuracy: 0.4789\n",
      "Epoch 28/50\n",
      "50000/50000 [==============================] - 57s 1ms/step - loss: 1.3525 - accuracy: 0.5192 - val_loss: 1.5027 - val_accuracy: 0.4744\n",
      "Epoch 29/50\n",
      "50000/50000 [==============================] - 59s 1ms/step - loss: 1.3473 - accuracy: 0.5195 - val_loss: 1.4503 - val_accuracy: 0.4895\n",
      "Epoch 30/50\n",
      "50000/50000 [==============================] - 58s 1ms/step - loss: 1.3404 - accuracy: 0.5225 - val_loss: 1.4669 - val_accuracy: 0.4763\n",
      "Epoch 31/50\n",
      "50000/50000 [==============================] - 59s 1ms/step - loss: 1.3368 - accuracy: 0.5239 - val_loss: 1.5114 - val_accuracy: 0.4697\n",
      "Epoch 32/50\n",
      "50000/50000 [==============================] - 58s 1ms/step - loss: 1.3302 - accuracy: 0.5266 - val_loss: 1.4774 - val_accuracy: 0.4792\n",
      "Epoch 33/50\n",
      "50000/50000 [==============================] - 59s 1ms/step - loss: 1.3286 - accuracy: 0.5257 - val_loss: 1.4800 - val_accuracy: 0.4820\n",
      "Epoch 34/50\n",
      "50000/50000 [==============================] - 59s 1ms/step - loss: 1.3265 - accuracy: 0.5270 - val_loss: 1.5040 - val_accuracy: 0.4712\n",
      "Epoch 35/50\n",
      "50000/50000 [==============================] - 58s 1ms/step - loss: 1.3211 - accuracy: 0.5294 - val_loss: 1.4817 - val_accuracy: 0.4753\n",
      "Epoch 36/50\n",
      "50000/50000 [==============================] - 58s 1ms/step - loss: 1.3194 - accuracy: 0.5294 - val_loss: 1.4819 - val_accuracy: 0.4767\n",
      "Epoch 37/50\n",
      "50000/50000 [==============================] - 59s 1ms/step - loss: 1.3144 - accuracy: 0.5319 - val_loss: 1.4964 - val_accuracy: 0.4734\n",
      "Epoch 38/50\n",
      "50000/50000 [==============================] - 58s 1ms/step - loss: 1.3150 - accuracy: 0.5300 - val_loss: 1.5131 - val_accuracy: 0.4696\n",
      "Epoch 39/50\n",
      "50000/50000 [==============================] - 57s 1ms/step - loss: 1.3081 - accuracy: 0.5324 - val_loss: 1.5888 - val_accuracy: 0.4490\n",
      "Epoch 40/50\n",
      "50000/50000 [==============================] - 56s 1ms/step - loss: 1.3060 - accuracy: 0.5345 - val_loss: 1.4839 - val_accuracy: 0.4791\n",
      "Epoch 41/50\n",
      "50000/50000 [==============================] - 56s 1ms/step - loss: 1.3037 - accuracy: 0.5355 - val_loss: 1.4884 - val_accuracy: 0.4771\n",
      "Epoch 42/50\n",
      "50000/50000 [==============================] - 56s 1ms/step - loss: 1.2990 - accuracy: 0.5377 - val_loss: 1.4955 - val_accuracy: 0.4752\n",
      "Epoch 43/50\n",
      "50000/50000 [==============================] - 56s 1ms/step - loss: 1.2947 - accuracy: 0.5393 - val_loss: 1.5245 - val_accuracy: 0.4738\n",
      "Epoch 44/50\n",
      "50000/50000 [==============================] - 56s 1ms/step - loss: 1.2909 - accuracy: 0.5389 - val_loss: 1.5231 - val_accuracy: 0.4710\n",
      "Epoch 45/50\n",
      "50000/50000 [==============================] - 56s 1ms/step - loss: 1.2919 - accuracy: 0.5382 - val_loss: 1.5487 - val_accuracy: 0.4654\n",
      "Epoch 46/50\n",
      "50000/50000 [==============================] - 56s 1ms/step - loss: 1.2873 - accuracy: 0.5404 - val_loss: 1.4926 - val_accuracy: 0.4771\n",
      "Epoch 47/50\n",
      "50000/50000 [==============================] - 56s 1ms/step - loss: 1.2830 - accuracy: 0.5417 - val_loss: 1.5140 - val_accuracy: 0.4721\n",
      "Epoch 48/50\n",
      "50000/50000 [==============================] - 56s 1ms/step - loss: 1.2812 - accuracy: 0.5426 - val_loss: 1.5339 - val_accuracy: 0.4693\n",
      "Epoch 49/50\n",
      "50000/50000 [==============================] - 60s 1ms/step - loss: 1.2800 - accuracy: 0.5437 - val_loss: 1.5268 - val_accuracy: 0.4674\n",
      "Epoch 50/50\n",
      "50000/50000 [==============================] - 62s 1ms/step - loss: 1.2753 - accuracy: 0.5469 - val_loss: 1.5060 - val_accuracy: 0.4812\n"
     ]
    }
   ],
   "source": [
    "#학습하기\n",
    "hist = model.fit(X_train, y_train,\n",
    "                batch_size = 32, epochs = 50,\n",
    "                verbose = 1,\n",
    "                validation_data = (X_test, y_test))"
   ]
  },
  {
   "cell_type": "code",
   "execution_count": 8,
   "metadata": {},
   "outputs": [
    {
     "name": "stdout",
     "output_type": "stream",
     "text": [
      "10000/10000 [==============================] - 2s 215us/step\n",
      "정답률 =  0.4812000095844269 loss =  1.5059705728530883\n"
     ]
    }
   ],
   "source": [
    "#모델 평가하기\n",
    "score = model.evaluate(X_test, y_test, verbose = 1)\n",
    "print('정답률 = ', score[1], 'loss = ', score[0])"
   ]
  },
  {
   "cell_type": "code",
   "execution_count": 9,
   "metadata": {},
   "outputs": [
    {
     "data": {
      "image/png": "[encoded data removed]",
      "text/plain": [
       "<Figure size 432x288 with 1 Axes>"
      ]
     },
     "metadata": {
      "needs_background": "light"
     },
     "output_type": "display_data"
    },
    {
     "data": {
      "image/png": "[encoded data removed]",
      "text/plain": [
       "<Figure size 432x288 with 1 Axes>"
      ]
     },
     "metadata": {
      "needs_background": "light"
     },
     "output_type": "display_data"
    }
   ],
   "source": [
    "#학습 상태를 그래프로 그리기\n",
    "plt.plot(hist.history['accuracy'])\n",
    "plt.plot(hist.history['val_accuracy'])\n",
    "plt.title('Accuracy')\n",
    "plt.legend(['train', 'test'], loc = 'upper left')\n",
    "plt.show()\n",
    "plt.plot(hist.history['loss'])\n",
    "plt.plot(hist.history['val_loss'])\n",
    "plt.title('Loss')\n",
    "plt.legend(['train', 'test'], loc = 'upper left')\n",
    "plt.show()"
   ]
  },
  {
   "cell_type": "code",
   "execution_count": 10,
   "metadata": {},
   "outputs": [],
   "source": [
    "#학습결과 저장하기\n",
    "model.save_weights('cifar10_MLP-weight.h5')"
   ]
  },
  {
   "cell_type": "code",
   "execution_count": 11,
   "metadata": {},
   "outputs": [],
   "source": [
    "#학습결과 불러오기\n",
    "model.load_weights('cifar10_MLP-weight.h5')"
   ]
  }
 ],
 "metadata": {
  "kernelspec": {
   "display_name": "Python 3",
   "language": "python",
   "name": "python3"
  },
  "language_info": {
   "codemirror_mode": {
    "name": "ipython",
    "version": 3
   },
   "file_extension": ".py",
   "mimetype": "text/x-python",
   "name": "python",
   "nbconvert_exporter": "python",
   "pygments_lexer": "ipython3",
   "version": "3.7.7"
  }
 },
 "nbformat": 4,
 "nbformat_minor": 4
}
